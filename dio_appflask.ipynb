{
  "cells": [
    {
      "cell_type": "markdown",
      "metadata": {
        "id": "view-in-github",
        "colab_type": "text"
      },
      "source": [
        "<a href=\"https://colab.research.google.com/github/murilonegrao/dio-python-desafios/blob/main/dio_appflask.ipynb\" target=\"_parent\"><img src=\"https://colab.research.google.com/assets/colab-badge.svg\" alt=\"Open In Colab\"/></a>"
      ]
    },
    {
      "cell_type": "code",
      "execution_count": null,
      "metadata": {
        "id": "qE_rJPbsIes2"
      },
      "outputs": [],
      "source": [
        "!pip install flask"
      ]
    },
    {
      "cell_type": "code",
      "execution_count": null,
      "metadata": {
        "id": "shylikKbIuMp"
      },
      "outputs": [],
      "source": [
        "!pip install flask-ngrok"
      ]
    },
    {
      "cell_type": "code",
      "execution_count": null,
      "metadata": {
        "id": "D544WEiCygV0"
      },
      "outputs": [],
      "source": [
        "!pip install fastapi nest-asyncio pyngrok uvicorn"
      ]
    },
    {
      "cell_type": "code",
      "execution_count": null,
      "metadata": {
        "id": "j-om8D1cIyAy"
      },
      "outputs": [],
      "source": [
        "!pip install pandas"
      ]
    },
    {
      "cell_type": "code",
      "source": [
        "!pip install pandas --upgrade"
      ],
      "metadata": {
        "id": "Gm8WWfMZL4Ns"
      },
      "execution_count": null,
      "outputs": []
    },
    {
      "cell_type": "code",
      "execution_count": null,
      "metadata": {
        "id": "oBkzUdcWI1eJ"
      },
      "outputs": [],
      "source": [
        "!pip list"
      ]
    },
    {
      "cell_type": "code",
      "execution_count": null,
      "metadata": {
        "id": "_XkYZCw6I-BT"
      },
      "outputs": [],
      "source": [
        "from flask import *\n",
        "from flask_ngrok import run_with_ngrok\n",
        "\n",
        "app = Flask(__name__)\n",
        "@app.route('/index')\n",
        "def home():\n",
        "  return 'Hello World'\n",
        "\n",
        "run_with_ngrok(app)\n",
        "app.run()"
      ]
    },
    {
      "cell_type": "code",
      "source": [
        "!ngrok authtoken mytoken\n",
        "\n",
        "import pandas as pd\n",
        "from flask_ngrok import run_with_ngrok\n",
        "from flask import request, jsonify, Flask\n",
        "import random as rk\n",
        "import nest_asyncio\n",
        "from pyngrok import ngrok\n",
        "import uvicorn\n",
        "\n",
        "app = Flask(__name__)\n",
        "run_with_ngrok(app)\n",
        "\n",
        "link_planilha = 'https://docs.google.com/spreadsheets/d/1avDfkt7EchskKH93o38Wj8CY8j-rIlmEpVIrukxLIhQ/edit?usp=sharing'\n",
        "\n",
        "planilha = '1avDfkt7EchskKH93o38Wj8CY8j-rIlmEpVIrukxLIhQ'\n",
        "\n",
        "#nome_planilha = 'Planilha-flask'\n",
        "\n",
        "url=f'https://docs.google.com/spreadsheet/ccc?key={planilha}&output=csv'\n",
        "\n",
        "df = pd.read_csv(url)\n",
        "\n",
        "json_data = df.to_json(orient='records', force_ascii=False)\n",
        "\n",
        "@app.route('/')\n",
        "def index():\n",
        "  return json_data\n",
        "\n",
        "\n",
        "nest_asyncio.apply()\n",
        "app.run()"
      ],
      "metadata": {
        "id": "45pid91tKcUx"
      },
      "execution_count": null,
      "outputs": []
    }
  ],
  "metadata": {
    "colab": {
      "provenance": [],
      "toc_visible": true,
      "authorship_tag": "ABX9TyPjqGYbFan+l/rv/T91gfdI",
      "include_colab_link": true
    },
    "kernelspec": {
      "display_name": "Python 3",
      "name": "python3"
    },
    "language_info": {
      "name": "python"
    }
  },
  "nbformat": 4,
  "nbformat_minor": 0
}